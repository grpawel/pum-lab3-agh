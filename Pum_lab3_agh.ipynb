{
  "nbformat": 4,
  "nbformat_minor": 0,
  "metadata": {
    "colab": {
      "name": "Pum-lab3-agh.ipynb",
      "version": "0.3.2",
      "provenance": [],
      "collapsed_sections": []
    },
    "kernelspec": {
      "name": "python3",
      "display_name": "Python 3"
    }
  },
  "cells": [
    {
      "metadata": {
        "id": "rttMWigaqHiF",
        "colab_type": "code",
        "colab": {}
      },
      "cell_type": "code",
      "source": [
        "import numpy as np\n",
        "import sklearn as sk\n",
        "import sklearn.datasets as sk_ds\n",
        "import sklearn.svm as sk_svm\n",
        "import matplotlib.pyplot as plt"
      ],
      "execution_count": 0,
      "outputs": []
    },
    {
      "metadata": {
        "id": "sIyjhUAs3645",
        "colab_type": "code",
        "colab": {
          "base_uri": "https://localhost:8080/",
          "height": 35
        },
        "outputId": "80d76954-2013-4e2f-b2a4-500b2089d9c1"
      },
      "cell_type": "code",
      "source": [
        "wbc_features, wbc_targets = sk_ds.load_breast_cancer(True)\n",
        "print('WBC: Zbiór {} danych z {} cechami'.format(len(wbc_targets),\n",
        "                                                 wbc_features.shape[1]))"
      ],
      "execution_count": 3,
      "outputs": [
        {
          "output_type": "stream",
          "text": [
            "WBC: Zbiór 569 danych z 30 cechami\n"
          ],
          "name": "stdout"
        }
      ]
    },
    {
      "metadata": {
        "id": "k39TzniRskcm",
        "colab_type": "text"
      },
      "cell_type": "markdown",
      "source": [
        "## SVM"
      ]
    },
    {
      "metadata": {
        "id": "Y-zWtKtHuYGc",
        "colab_type": "text"
      },
      "cell_type": "markdown",
      "source": [
        "### Klasyfikator liniowy"
      ]
    },
    {
      "metadata": {
        "id": "ON5q8fk1xRxR",
        "colab_type": "text"
      },
      "cell_type": "markdown",
      "source": [
        "$$ y = f(\\vec{w} \\cdot \\vec{x}) = f(\\sum_i w_i x_i)  $$\n",
        "\n",
        "$\\vec{w}$ - wektor wag klasyfikatora\n",
        "\n",
        "$\\vec{x}$ - wektor wejściowy cech\n",
        "\n",
        "$f$ - funkcja decyzyjna $\\Re \\to N $ odwzorowuje zbiór liczb rzeczywistych na klasę \n",
        "\n",
        "Dla dwóch klas funkcja $f$ zazwyczaj przypisuje iloczyn skalarny do jednej klasy jeśli jest on większy od pewnej wartości i do drugiej klasy jeśli nie jest. W takim przypadku klasyfikator liniowy dzieli przestrzeń wejściową za pomocą hiperpłaszczyzny, czyli uogólnienia płaszczyzny do n-wymiarów."
      ]
    },
    {
      "metadata": {
        "id": "BMRzEM2y1ZAB",
        "colab_type": "code",
        "colab": {
          "base_uri": "https://localhost:8080/",
          "height": 347
        },
        "outputId": "debc0163-99a4-446e-f5b0-5607ebd41a2e"
      },
      "cell_type": "code",
      "source": [
        "def make_linear():\n",
        "  in_features = wbc_features[40:70,:2]\n",
        "  out_targets = wbc_targets[40:70]\n",
        "  \n",
        "  min_x = in_features[:,0].min() - 1\n",
        "  max_x = in_features[:,0].max() + 1\n",
        "  min_y = in_features[:,1].min() - 1\n",
        "  max_y = in_features[:,1].max() + 1\n",
        "  xx, yy = np.meshgrid(np.arange(min_x, max_x, 0.01),\n",
        "                       np.arange(min_y, max_y, 0.01))\n",
        "  classifier = sk_svm.LinearSVC(dual=False, tol=0.0000001)\n",
        "  classifier.fit(in_features, out_targets)\n",
        "  Z = classifier.predict(np.c_[xx.ravel(), yy.ravel()])\n",
        "  Z = Z.reshape(xx.shape)\n",
        "  plt.contourf(xx, yy, Z, cmap=plt.cm.coolwarm, alpha=0.8)\n",
        "  plt.scatter(in_features[:,0], in_features[:,1], c=out_targets, cmap=plt.cm.coolwarm)\n",
        "  plt.show()\n",
        "  \n",
        "make_linear()"
      ],
      "execution_count": 25,
      "outputs": [
        {
          "output_type": "display_data",
          "data": {
            "image/png": "[encoded data removed]",
            "text/plain": [
              "<matplotlib.figure.Figure at 0x7ff37faedf60>"
            ]
          },
          "metadata": {
            "tags": []
          }
        }
      ]
    },
    {
      "metadata": {
        "id": "Q86C89Pwub_S",
        "colab_type": "text"
      },
      "cell_type": "markdown",
      "source": [
        "### Klasyfikator SVM"
      ]
    },
    {
      "metadata": {
        "id": "HR8FkdQYuhhL",
        "colab_type": "text"
      },
      "cell_type": "markdown",
      "source": [
        "### Trik kernelowy"
      ]
    },
    {
      "metadata": {
        "id": "OklztgToulNM",
        "colab_type": "text"
      },
      "cell_type": "markdown",
      "source": [
        "### Jakość klasyfikacji"
      ]
    },
    {
      "metadata": {
        "id": "-MYPwMIOswVh",
        "colab_type": "text"
      },
      "cell_type": "markdown",
      "source": [
        "## Działanie SVM"
      ]
    },
    {
      "metadata": {
        "id": "KqlIAdCatOS8",
        "colab_type": "text"
      },
      "cell_type": "markdown",
      "source": [
        ""
      ]
    }
  ]
}